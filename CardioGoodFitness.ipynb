{
 "cells": [
  {
   "cell_type": "code",
   "execution_count": 1,
   "id": "eleven-stake",
   "metadata": {},
   "outputs": [],
   "source": [
    "import numpy as np\n",
    "import pandas as pd"
   ]
  },
  {
   "cell_type": "code",
   "execution_count": 2,
   "id": "chronic-validity",
   "metadata": {},
   "outputs": [
    {
     "output_type": "execute_result",
     "data": {
      "text/plain": [
       "  Product  Age  Gender  Education MaritalStatus  Usage  Fitness  Income  Miles\n",
       "0   TM195   18    Male         14        Single      3        4   29562    112\n",
       "1   TM195   19    Male         15        Single      2        3   31836     75\n",
       "2   TM195   19  Female         14     Partnered      4        3   30699     66\n",
       "3   TM195   19    Male         12        Single      3        3   32973     85\n",
       "4   TM195   20    Male         13     Partnered      4        2   35247     47"
      ],
      "text/html": "<div>\n<style scoped>\n    .dataframe tbody tr th:only-of-type {\n        vertical-align: middle;\n    }\n\n    .dataframe tbody tr th {\n        vertical-align: top;\n    }\n\n    .dataframe thead th {\n        text-align: right;\n    }\n</style>\n<table border=\"1\" class=\"dataframe\">\n  <thead>\n    <tr style=\"text-align: right;\">\n      <th></th>\n      <th>Product</th>\n      <th>Age</th>\n      <th>Gender</th>\n      <th>Education</th>\n      <th>MaritalStatus</th>\n      <th>Usage</th>\n      <th>Fitness</th>\n      <th>Income</th>\n      <th>Miles</th>\n    </tr>\n  </thead>\n  <tbody>\n    <tr>\n      <th>0</th>\n      <td>TM195</td>\n      <td>18</td>\n      <td>Male</td>\n      <td>14</td>\n      <td>Single</td>\n      <td>3</td>\n      <td>4</td>\n      <td>29562</td>\n      <td>112</td>\n    </tr>\n    <tr>\n      <th>1</th>\n      <td>TM195</td>\n      <td>19</td>\n      <td>Male</td>\n      <td>15</td>\n      <td>Single</td>\n      <td>2</td>\n      <td>3</td>\n      <td>31836</td>\n      <td>75</td>\n    </tr>\n    <tr>\n      <th>2</th>\n      <td>TM195</td>\n      <td>19</td>\n      <td>Female</td>\n      <td>14</td>\n      <td>Partnered</td>\n      <td>4</td>\n      <td>3</td>\n      <td>30699</td>\n      <td>66</td>\n    </tr>\n    <tr>\n      <th>3</th>\n      <td>TM195</td>\n      <td>19</td>\n      <td>Male</td>\n      <td>12</td>\n      <td>Single</td>\n      <td>3</td>\n      <td>3</td>\n      <td>32973</td>\n      <td>85</td>\n    </tr>\n    <tr>\n      <th>4</th>\n      <td>TM195</td>\n      <td>20</td>\n      <td>Male</td>\n      <td>13</td>\n      <td>Partnered</td>\n      <td>4</td>\n      <td>2</td>\n      <td>35247</td>\n      <td>47</td>\n    </tr>\n  </tbody>\n</table>\n</div>"
     },
     "metadata": {},
     "execution_count": 2
    }
   ],
   "source": [
    "my_data=pd.read_csv(\"CardioGoodFitness.csv\")\n",
    "my_data.head()"
   ]
  },
  {
   "cell_type": "code",
   "execution_count": 3,
   "id": "ambient-islam",
   "metadata": {},
   "outputs": [
    {
     "output_type": "execute_result",
     "data": {
      "text/plain": [
       "       Product         Age Gender   Education MaritalStatus       Usage  \\\n",
       "count      180  180.000000    180  180.000000           180  180.000000   \n",
       "unique       3         NaN      2         NaN             2         NaN   \n",
       "top      TM195         NaN   Male         NaN     Partnered         NaN   \n",
       "freq        80         NaN    104         NaN           107         NaN   \n",
       "mean       NaN   28.788889    NaN   15.572222           NaN    3.455556   \n",
       "std        NaN    6.943498    NaN    1.617055           NaN    1.084797   \n",
       "min        NaN   18.000000    NaN   12.000000           NaN    2.000000   \n",
       "25%        NaN   24.000000    NaN   14.000000           NaN    3.000000   \n",
       "50%        NaN   26.000000    NaN   16.000000           NaN    3.000000   \n",
       "75%        NaN   33.000000    NaN   16.000000           NaN    4.000000   \n",
       "max        NaN   50.000000    NaN   21.000000           NaN    7.000000   \n",
       "\n",
       "           Fitness         Income       Miles  \n",
       "count   180.000000     180.000000  180.000000  \n",
       "unique         NaN            NaN         NaN  \n",
       "top            NaN            NaN         NaN  \n",
       "freq           NaN            NaN         NaN  \n",
       "mean      3.311111   53719.577778  103.194444  \n",
       "std       0.958869   16506.684226   51.863605  \n",
       "min       1.000000   29562.000000   21.000000  \n",
       "25%       3.000000   44058.750000   66.000000  \n",
       "50%       3.000000   50596.500000   94.000000  \n",
       "75%       4.000000   58668.000000  114.750000  \n",
       "max       5.000000  104581.000000  360.000000  "
      ],
      "text/html": "<div>\n<style scoped>\n    .dataframe tbody tr th:only-of-type {\n        vertical-align: middle;\n    }\n\n    .dataframe tbody tr th {\n        vertical-align: top;\n    }\n\n    .dataframe thead th {\n        text-align: right;\n    }\n</style>\n<table border=\"1\" class=\"dataframe\">\n  <thead>\n    <tr style=\"text-align: right;\">\n      <th></th>\n      <th>Product</th>\n      <th>Age</th>\n      <th>Gender</th>\n      <th>Education</th>\n      <th>MaritalStatus</th>\n      <th>Usage</th>\n      <th>Fitness</th>\n      <th>Income</th>\n      <th>Miles</th>\n    </tr>\n  </thead>\n  <tbody>\n    <tr>\n      <th>count</th>\n      <td>180</td>\n      <td>180.000000</td>\n      <td>180</td>\n      <td>180.000000</td>\n      <td>180</td>\n      <td>180.000000</td>\n      <td>180.000000</td>\n      <td>180.000000</td>\n      <td>180.000000</td>\n    </tr>\n    <tr>\n      <th>unique</th>\n      <td>3</td>\n      <td>NaN</td>\n      <td>2</td>\n      <td>NaN</td>\n      <td>2</td>\n      <td>NaN</td>\n      <td>NaN</td>\n      <td>NaN</td>\n      <td>NaN</td>\n    </tr>\n    <tr>\n      <th>top</th>\n      <td>TM195</td>\n      <td>NaN</td>\n      <td>Male</td>\n      <td>NaN</td>\n      <td>Partnered</td>\n      <td>NaN</td>\n      <td>NaN</td>\n      <td>NaN</td>\n      <td>NaN</td>\n    </tr>\n    <tr>\n      <th>freq</th>\n      <td>80</td>\n      <td>NaN</td>\n      <td>104</td>\n      <td>NaN</td>\n      <td>107</td>\n      <td>NaN</td>\n      <td>NaN</td>\n      <td>NaN</td>\n      <td>NaN</td>\n    </tr>\n    <tr>\n      <th>mean</th>\n      <td>NaN</td>\n      <td>28.788889</td>\n      <td>NaN</td>\n      <td>15.572222</td>\n      <td>NaN</td>\n      <td>3.455556</td>\n      <td>3.311111</td>\n      <td>53719.577778</td>\n      <td>103.194444</td>\n    </tr>\n    <tr>\n      <th>std</th>\n      <td>NaN</td>\n      <td>6.943498</td>\n      <td>NaN</td>\n      <td>1.617055</td>\n      <td>NaN</td>\n      <td>1.084797</td>\n      <td>0.958869</td>\n      <td>16506.684226</td>\n      <td>51.863605</td>\n    </tr>\n    <tr>\n      <th>min</th>\n      <td>NaN</td>\n      <td>18.000000</td>\n      <td>NaN</td>\n      <td>12.000000</td>\n      <td>NaN</td>\n      <td>2.000000</td>\n      <td>1.000000</td>\n      <td>29562.000000</td>\n      <td>21.000000</td>\n    </tr>\n    <tr>\n      <th>25%</th>\n      <td>NaN</td>\n      <td>24.000000</td>\n      <td>NaN</td>\n      <td>14.000000</td>\n      <td>NaN</td>\n      <td>3.000000</td>\n      <td>3.000000</td>\n      <td>44058.750000</td>\n      <td>66.000000</td>\n    </tr>\n    <tr>\n      <th>50%</th>\n      <td>NaN</td>\n      <td>26.000000</td>\n      <td>NaN</td>\n      <td>16.000000</td>\n      <td>NaN</td>\n      <td>3.000000</td>\n      <td>3.000000</td>\n      <td>50596.500000</td>\n      <td>94.000000</td>\n    </tr>\n    <tr>\n      <th>75%</th>\n      <td>NaN</td>\n      <td>33.000000</td>\n      <td>NaN</td>\n      <td>16.000000</td>\n      <td>NaN</td>\n      <td>4.000000</td>\n      <td>4.000000</td>\n      <td>58668.000000</td>\n      <td>114.750000</td>\n    </tr>\n    <tr>\n      <th>max</th>\n      <td>NaN</td>\n      <td>50.000000</td>\n      <td>NaN</td>\n      <td>21.000000</td>\n      <td>NaN</td>\n      <td>7.000000</td>\n      <td>5.000000</td>\n      <td>104581.000000</td>\n      <td>360.000000</td>\n    </tr>\n  </tbody>\n</table>\n</div>"
     },
     "metadata": {},
     "execution_count": 3
    }
   ],
   "source": [
    "my_data.describe(include=\"all\")"
   ]
  }
 ],
 "metadata": {
  "kernelspec": {
   "display_name": "tf",
   "language": "python",
   "name": "myenv"
  },
  "language_info": {
   "codemirror_mode": {
    "name": "ipython",
    "version": 3
   },
   "file_extension": ".py",
   "mimetype": "text/x-python",
   "name": "python",
   "nbconvert_exporter": "python",
   "pygments_lexer": "ipython3",
   "version": "3.8.5-final"
  }
 },
 "nbformat": 4,
 "nbformat_minor": 5
}